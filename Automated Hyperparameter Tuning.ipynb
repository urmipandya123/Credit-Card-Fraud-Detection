{
 "cells": [
  {
   "cell_type": "code",
   "execution_count": 1,
   "id": "dc445f3a",
   "metadata": {},
   "outputs": [],
   "source": [
    "import pandas as pd\n",
    "from sklearn.preprocessing import StandardScaler\n",
    "from sklearn.model_selection import train_test_split"
   ]
  },
  {
   "cell_type": "code",
   "execution_count": 2,
   "id": "05686f2e",
   "metadata": {},
   "outputs": [],
   "source": [
    "df = pd.read_csv('creditcard.csv')"
   ]
  },
  {
   "cell_type": "code",
   "execution_count": 3,
   "id": "abe878d2",
   "metadata": {},
   "outputs": [],
   "source": [
    "X = df[['V17', 'V9', 'V6', 'V12']]\n",
    "Y = df['Class']"
   ]
  },
  {
   "cell_type": "code",
   "execution_count": 4,
   "id": "f8355086",
   "metadata": {},
   "outputs": [],
   "source": [
    "X_Train, X_Test, Y_Train, Y_Test = train_test_split(X, Y, test_size = 0.30,random_state = 101)"
   ]
  },
  {
   "cell_type": "code",
   "execution_count": 5,
   "id": "a3e7e264",
   "metadata": {},
   "outputs": [
    {
     "name": "stdout",
     "output_type": "stream",
     "text": [
      "[[85289    10]\n",
      " [   34   110]]\n",
      "              precision    recall  f1-score   support\n",
      "\n",
      "           0       1.00      1.00      1.00     85299\n",
      "           1       0.92      0.76      0.83       144\n",
      "\n",
      "    accuracy                           1.00     85443\n",
      "   macro avg       0.96      0.88      0.92     85443\n",
      "weighted avg       1.00      1.00      1.00     85443\n",
      "\n"
     ]
    }
   ],
   "source": [
    "from sklearn.metrics import classification_report,confusion_matrix\n",
    "from sklearn.ensemble import RandomForestClassifier\n",
    "from sklearn.metrics import accuracy_score\n",
    "\n",
    "model = RandomForestClassifier(random_state= 101).fit(X_Train,Y_Train)\n",
    "predictionforest = model.predict(X_Test)\n",
    "print(confusion_matrix(Y_Test,predictionforest))\n",
    "print(classification_report(Y_Test,predictionforest))\n",
    "acc1 = accuracy_score(Y_Test,predictionforest)"
   ]
  },
  {
   "cell_type": "code",
   "execution_count": 6,
   "id": "3ec74360",
   "metadata": {},
   "outputs": [
    {
     "name": "stdout",
     "output_type": "stream",
     "text": [
      "[[85288    11]\n",
      " [   41   103]]\n",
      "              precision    recall  f1-score   support\n",
      "\n",
      "           0       1.00      1.00      1.00     85299\n",
      "           1       0.90      0.72      0.80       144\n",
      "\n",
      "    accuracy                           1.00     85443\n",
      "   macro avg       0.95      0.86      0.90     85443\n",
      "weighted avg       1.00      1.00      1.00     85443\n",
      "\n"
     ]
    }
   ],
   "source": [
    "model = RandomForestClassifier(n_estimators=10, random_state= 101).fit(X_Train,Y_Train)\n",
    "predictionforest = model.predict(X_Test)\n",
    "print(confusion_matrix(Y_Test,predictionforest))\n",
    "print(classification_report(Y_Test,predictionforest))\n",
    "acc2 = accuracy_score(Y_Test,predictionforest)"
   ]
  },
  {
   "cell_type": "code",
   "execution_count": 7,
   "id": "c981fdc2",
   "metadata": {},
   "outputs": [
    {
     "name": "stdout",
     "output_type": "stream",
     "text": [
      "Fitting 4 folds for each of 10 candidates, totalling 40 fits\n"
     ]
    },
    {
     "data": {
      "text/plain": [
       "RandomizedSearchCV(cv=4, estimator=RandomForestClassifier(), n_jobs=-1,\n",
       "                   param_distributions={'criterion': ['entropy', 'gini'],\n",
       "                                        'max_depth': [2],\n",
       "                                        'max_features': ['auto', 'sqrt'],\n",
       "                                        'min_samples_leaf': [4, 6, 8],\n",
       "                                        'min_samples_split': [5, 7, 10],\n",
       "                                        'n_estimators': [20]},\n",
       "                   random_state=101, verbose=1)"
      ]
     },
     "execution_count": 7,
     "metadata": {},
     "output_type": "execute_result"
    }
   ],
   "source": [
    "import numpy as np \n",
    "from sklearn.model_selection import RandomizedSearchCV\n",
    "from sklearn.model_selection import cross_val_score\n",
    "\n",
    "random_search = {'criterion': ['entropy', 'gini'],\n",
    "               'max_depth': [2],\n",
    "               'max_features': ['auto', 'sqrt'],\n",
    "               'min_samples_leaf': [4, 6, 8],\n",
    "               'min_samples_split': [5, 7,10],\n",
    "               'n_estimators': [20]}\n",
    "\n",
    "clf = RandomForestClassifier()\n",
    "model = RandomizedSearchCV(estimator = clf, param_distributions = random_search, n_iter = 10, \n",
    "                               cv = 4, verbose= 1, random_state= 101, n_jobs = -1)\n",
    "model.fit(X_Train,Y_Train)"
   ]
  },
  {
   "cell_type": "code",
   "execution_count": 8,
   "id": "7c6ce3c9",
   "metadata": {},
   "outputs": [
    {
     "data": {
      "text/plain": [
       "<AxesSubplot:xlabel='param_criterion', ylabel='param_n_estimators'>"
      ]
     },
     "execution_count": 8,
     "metadata": {},
     "output_type": "execute_result"
    },
    {
     "data": {
      "image/png": "[encoded data removed]",
      "text/plain": [
       "<Figure size 640x480 with 2 Axes>"
      ]
     },
     "metadata": {},
     "output_type": "display_data"
    }
   ],
   "source": [
    "import seaborn as sns\n",
    "\n",
    "table = pd.pivot_table(pd.DataFrame(model.cv_results_),\n",
    "    values='mean_test_score', index='param_n_estimators', \n",
    "                       columns='param_criterion')\n",
    "     \n",
    "sns.heatmap(table)"
   ]
  },
  {
   "cell_type": "code",
   "execution_count": 9,
   "id": "0f33d657",
   "metadata": {},
   "outputs": [
    {
     "name": "stdout",
     "output_type": "stream",
     "text": [
      "[[85281    18]\n",
      " [   52    92]]\n",
      "              precision    recall  f1-score   support\n",
      "\n",
      "           0       1.00      1.00      1.00     85299\n",
      "           1       0.84      0.64      0.72       144\n",
      "\n",
      "    accuracy                           1.00     85443\n",
      "   macro avg       0.92      0.82      0.86     85443\n",
      "weighted avg       1.00      1.00      1.00     85443\n",
      "\n"
     ]
    }
   ],
   "source": [
    "predictionforest = model.best_estimator_.predict(X_Test)\n",
    "print(confusion_matrix(Y_Test,predictionforest))\n",
    "print(classification_report(Y_Test,predictionforest))\n",
    "acc3 = accuracy_score(Y_Test,predictionforest)"
   ]
  },
  {
   "cell_type": "code",
   "execution_count": 10,
   "id": "a4339248",
   "metadata": {},
   "outputs": [
    {
     "name": "stdout",
     "output_type": "stream",
     "text": [
      "Fitting 4 folds for each of 36 candidates, totalling 144 fits\n",
      "[[85280    19]\n",
      " [   41   103]]\n",
      "              precision    recall  f1-score   support\n",
      "\n",
      "           0       1.00      1.00      1.00     85299\n",
      "           1       0.84      0.72      0.77       144\n",
      "\n",
      "    accuracy                           1.00     85443\n",
      "   macro avg       0.92      0.86      0.89     85443\n",
      "weighted avg       1.00      1.00      1.00     85443\n",
      "\n"
     ]
    }
   ],
   "source": [
    "from sklearn.model_selection import GridSearchCV\n",
    "\n",
    "grid_search = {'criterion': ['entropy', 'gini'],\n",
    "               'max_depth': [2],\n",
    "               'max_features': ['auto', 'sqrt'],\n",
    "               'min_samples_leaf': [4, 6, 8],\n",
    "               'min_samples_split': [5, 7,10],\n",
    "               'n_estimators': [20]}\n",
    "\n",
    "clf = RandomForestClassifier()\n",
    "model = GridSearchCV(estimator = clf, param_grid = grid_search, \n",
    "                               cv = 4, verbose= 5, n_jobs = -1)\n",
    "model.fit(X_Train,Y_Train)\n",
    "\n",
    "predictionforest = model.best_estimator_.predict(X_Test)\n",
    "print(confusion_matrix(Y_Test,predictionforest))\n",
    "print(classification_report(Y_Test,predictionforest))\n",
    "acc4 = accuracy_score(Y_Test,predictionforest)"
   ]
  },
  {
   "cell_type": "code",
   "execution_count": 11,
   "id": "a579d864",
   "metadata": {},
   "outputs": [
    {
     "name": "stdout",
     "output_type": "stream",
     "text": [
      "Collecting deap\n",
      "  Downloading deap-1.3.3-cp37-cp37m-win_amd64.whl (108 kB)\n",
      "     ------------------------------------ 109.0/109.0 kB 789.7 kB/s eta 0:00:00\n",
      "Collecting update_checker\n",
      "  Downloading update_checker-0.18.0-py3-none-any.whl (7.0 kB)\n",
      "Requirement already satisfied: tqdm in c:\\users\\urmi.pandya\\.conda\\envs\\greykite\\lib\\site-packages (4.64.1)\n",
      "Collecting stopit\n",
      "  Downloading stopit-1.1.2.tar.gz (18 kB)\n",
      "  Preparing metadata (setup.py): started\n",
      "  Preparing metadata (setup.py): finished with status 'done'\n",
      "Requirement already satisfied: numpy in c:\\users\\urmi.pandya\\.conda\\envs\\greykite\\lib\\site-packages (from deap) (1.21.6)\n",
      "Requirement already satisfied: requests>=2.3.0 in c:\\users\\urmi.pandya\\.conda\\envs\\greykite\\lib\\site-packages (from update_checker) (2.28.2)\n",
      "Requirement already satisfied: colorama in c:\\users\\urmi.pandya\\.conda\\envs\\greykite\\lib\\site-packages (from tqdm) (0.4.6)\n",
      "Requirement already satisfied: charset-normalizer<4,>=2 in c:\\users\\urmi.pandya\\.conda\\envs\\greykite\\lib\\site-packages (from requests>=2.3.0->update_checker) (3.1.0)\n",
      "Requirement already satisfied: certifi>=2017.4.17 in c:\\users\\urmi.pandya\\.conda\\envs\\greykite\\lib\\site-packages (from requests>=2.3.0->update_checker) (2022.12.7)\n",
      "Requirement already satisfied: urllib3<1.27,>=1.21.1 in c:\\users\\urmi.pandya\\.conda\\envs\\greykite\\lib\\site-packages (from requests>=2.3.0->update_checker) (1.26.14)\n",
      "Requirement already satisfied: idna<4,>=2.5 in c:\\users\\urmi.pandya\\.conda\\envs\\greykite\\lib\\site-packages (from requests>=2.3.0->update_checker) (3.4)\n",
      "Building wheels for collected packages: stopit\n",
      "  Building wheel for stopit (setup.py): started\n",
      "  Building wheel for stopit (setup.py): finished with status 'done'\n",
      "  Created wheel for stopit: filename=stopit-1.1.2-py3-none-any.whl size=12019 sha256=d22bc3f72f71ba3c629f8e56fc6c6b7ea93e983ad509cc1a3e7c10e70571f679\n",
      "  Stored in directory: c:\\users\\urmi.pandya\\appdata\\local\\pip\\cache\\wheels\\8a\\9f\\54\\c8e1e650852eecadcf9c18e6161f8dda140f1cbc68fa223ef5\n",
      "Successfully built stopit\n",
      "Installing collected packages: stopit, deap, update_checker\n",
      "Successfully installed deap-1.3.3 stopit-1.1.2 update_checker-0.18.0\n",
      "Note: you may need to restart the kernel to use updated packages.\n"
     ]
    }
   ],
   "source": [
    "pip install deap update_checker tqdm stopit"
   ]
  },
  {
   "cell_type": "code",
   "execution_count": 12,
   "id": "0306e4d0",
   "metadata": {},
   "outputs": [
    {
     "name": "stdout",
     "output_type": "stream",
     "text": [
      "Collecting tpot\n",
      "  Downloading TPOT-0.11.7-py3-none-any.whl (87 kB)\n",
      "     -------------------------------------- 87.2/87.2 kB 818.2 kB/s eta 0:00:00\n",
      "Requirement already satisfied: pandas>=0.24.2 in c:\\users\\urmi.pandya\\.conda\\envs\\greykite\\lib\\site-packages (from tpot) (1.2.5)\n",
      "Requirement already satisfied: xgboost>=1.1.0 in c:\\users\\urmi.pandya\\.conda\\envs\\greykite\\lib\\site-packages (from tpot) (1.6.2)\n",
      "Requirement already satisfied: numpy>=1.16.3 in c:\\users\\urmi.pandya\\.conda\\envs\\greykite\\lib\\site-packages (from tpot) (1.21.6)\n",
      "Requirement already satisfied: tqdm>=4.36.1 in c:\\users\\urmi.pandya\\.conda\\envs\\greykite\\lib\\site-packages (from tpot) (4.64.1)\n",
      "Requirement already satisfied: scipy>=1.3.1 in c:\\users\\urmi.pandya\\.conda\\envs\\greykite\\lib\\site-packages (from tpot) (1.7.3)\n",
      "Requirement already satisfied: scikit-learn>=0.22.0 in c:\\users\\urmi.pandya\\.conda\\envs\\greykite\\lib\\site-packages (from tpot) (1.0.2)\n",
      "Requirement already satisfied: stopit>=1.1.1 in c:\\users\\urmi.pandya\\.conda\\envs\\greykite\\lib\\site-packages (from tpot) (1.1.2)\n",
      "Requirement already satisfied: joblib>=0.13.2 in c:\\users\\urmi.pandya\\.conda\\envs\\greykite\\lib\\site-packages (from tpot) (1.2.0)\n",
      "Requirement already satisfied: deap>=1.2 in c:\\users\\urmi.pandya\\.conda\\envs\\greykite\\lib\\site-packages (from tpot) (1.3.3)\n",
      "Requirement already satisfied: update-checker>=0.16 in c:\\users\\urmi.pandya\\.conda\\envs\\greykite\\lib\\site-packages (from tpot) (0.18.0)\n",
      "Requirement already satisfied: python-dateutil>=2.7.3 in c:\\users\\urmi.pandya\\.conda\\envs\\greykite\\lib\\site-packages (from pandas>=0.24.2->tpot) (2.8.2)\n",
      "Requirement already satisfied: pytz>=2017.3 in c:\\users\\urmi.pandya\\.conda\\envs\\greykite\\lib\\site-packages (from pandas>=0.24.2->tpot) (2022.7.1)\n",
      "Requirement already satisfied: threadpoolctl>=2.0.0 in c:\\users\\urmi.pandya\\.conda\\envs\\greykite\\lib\\site-packages (from scikit-learn>=0.22.0->tpot) (3.1.0)\n",
      "Requirement already satisfied: colorama in c:\\users\\urmi.pandya\\.conda\\envs\\greykite\\lib\\site-packages (from tqdm>=4.36.1->tpot) (0.4.6)\n",
      "Requirement already satisfied: requests>=2.3.0 in c:\\users\\urmi.pandya\\.conda\\envs\\greykite\\lib\\site-packages (from update-checker>=0.16->tpot) (2.28.2)\n",
      "Requirement already satisfied: six>=1.5 in c:\\users\\urmi.pandya\\.conda\\envs\\greykite\\lib\\site-packages (from python-dateutil>=2.7.3->pandas>=0.24.2->tpot) (1.16.0)\n",
      "Requirement already satisfied: idna<4,>=2.5 in c:\\users\\urmi.pandya\\.conda\\envs\\greykite\\lib\\site-packages (from requests>=2.3.0->update-checker>=0.16->tpot) (3.4)\n",
      "Requirement already satisfied: charset-normalizer<4,>=2 in c:\\users\\urmi.pandya\\.conda\\envs\\greykite\\lib\\site-packages (from requests>=2.3.0->update-checker>=0.16->tpot) (3.1.0)\n",
      "Requirement already satisfied: urllib3<1.27,>=1.21.1 in c:\\users\\urmi.pandya\\.conda\\envs\\greykite\\lib\\site-packages (from requests>=2.3.0->update-checker>=0.16->tpot) (1.26.14)\n",
      "Requirement already satisfied: certifi>=2017.4.17 in c:\\users\\urmi.pandya\\.conda\\envs\\greykite\\lib\\site-packages (from requests>=2.3.0->update-checker>=0.16->tpot) (2022.12.7)\n",
      "Installing collected packages: tpot\n",
      "Successfully installed tpot-0.11.7\n",
      "Note: you may need to restart the kernel to use updated packages.\n"
     ]
    }
   ],
   "source": [
    "pip install tpot"
   ]
  },
  {
   "cell_type": "code",
   "execution_count": 13,
   "id": "62afc4b4",
   "metadata": {},
   "outputs": [
    {
     "name": "stderr",
     "output_type": "stream",
     "text": [
      "C:\\Users\\urmi.pandya\\.conda\\envs\\greykite\\lib\\site-packages\\tpot\\builtins\\__init__.py:36: UserWarning: Warning: optional dependency `torch` is not available. - skipping import of NN models.\n",
      "  warnings.warn(\"Warning: optional dependency `torch` is not available. - skipping import of NN models.\")\n"
     ]
    },
    {
     "name": "stdout",
     "output_type": "stream",
     "text": [
      "                                                                            \n",
      "Generation 1 - Current best internal CV score: 0.9992425914407816\n",
      "                                                                            \n",
      "Generation 2 - Current best internal CV score: 0.9992425914407816\n",
      "                                                                            \n",
      "Generation 3 - Current best internal CV score: 0.9992425914407818\n",
      "                                                                            \n",
      "Generation 4 - Current best internal CV score: 0.9992425914407818\n",
      "                                                                            \n",
      "Best pipeline: RandomForestClassifier(RandomForestClassifier(input_matrix, criterion=entropy, max_depth=2, max_features=auto, min_samples_leaf=4, min_samples_split=5, n_estimators=10), criterion=gini, max_depth=2, max_features=auto, min_samples_leaf=12, min_samples_split=5, n_estimators=10)\n"
     ]
    },
    {
     "data": {
      "text/plain": [
       "TPOTClassifier(config_dict={'sklearn.ensemble.RandomForestClassifier': {'criterion': ['entropy',\n",
       "                                                                                      'gini'],\n",
       "                                                                        'max_depth': [2],\n",
       "                                                                        'max_features': ['auto'],\n",
       "                                                                        'min_samples_leaf': [4,\n",
       "                                                                                             12],\n",
       "                                                                        'min_samples_split': [5,\n",
       "                                                                                              10],\n",
       "                                                                        'n_estimators': [10]}},\n",
       "               cv=4, early_stop=12, generations=4, offspring_size=12,\n",
       "               population_size=24, scoring='accuracy', verbosity=2)"
      ]
     },
     "execution_count": 13,
     "metadata": {},
     "output_type": "execute_result"
    }
   ],
   "source": [
    "from tpot import TPOTClassifier\n",
    "\n",
    "parameters = {'criterion': ['entropy', 'gini'],\n",
    "               'max_depth': [2],\n",
    "               'max_features': ['auto'],\n",
    "               'min_samples_leaf': [4, 12],\n",
    "               'min_samples_split': [5, 10],\n",
    "               'n_estimators': [10]}\n",
    "               \n",
    "tpot_classifier = TPOTClassifier(generations= 4, population_size= 24, offspring_size= 12,\n",
    "                                 verbosity= 2, early_stop= 12,\n",
    "                                 config_dict=\n",
    "                                 {'sklearn.ensemble.RandomForestClassifier': parameters}, \n",
    "                                 cv = 4, scoring = 'accuracy')\n",
    "tpot_classifier.fit(X_Train,Y_Train) "
   ]
  },
  {
   "cell_type": "code",
   "execution_count": 14,
   "id": "5f09d0aa",
   "metadata": {},
   "outputs": [
    {
     "name": "stdout",
     "output_type": "stream",
     "text": [
      "0.9992392589211521\n"
     ]
    },
    {
     "name": "stderr",
     "output_type": "stream",
     "text": [
      "C:\\Users\\urmi.pandya\\.conda\\envs\\greykite\\lib\\site-packages\\sklearn\\base.py:451: UserWarning: X does not have valid feature names, but RandomForestClassifier was fitted with feature names\n",
      "  \"X does not have valid feature names, but\"\n",
      "C:\\Users\\urmi.pandya\\.conda\\envs\\greykite\\lib\\site-packages\\sklearn\\base.py:451: UserWarning: X does not have valid feature names, but RandomForestClassifier was fitted with feature names\n",
      "  \"X does not have valid feature names, but\"\n"
     ]
    }
   ],
   "source": [
    "accuracy = tpot_classifier.score(X_Test, Y_Test)\n",
    "print(accuracy)"
   ]
  },
  {
   "cell_type": "markdown",
   "id": "b2d43b92",
   "metadata": {},
   "source": [
    "## ANN Tuning (Artificial Neural Network)"
   ]
  },
  {
   "cell_type": "code",
   "execution_count": 15,
   "id": "e480a267",
   "metadata": {},
   "outputs": [],
   "source": [
    "from keras.models import Sequential\n",
    "from keras.layers import Dense, Dropout\n",
    "from keras.wrappers.scikit_learn import KerasClassifier"
   ]
  },
  {
   "cell_type": "code",
   "execution_count": 16,
   "id": "1dc79d1f",
   "metadata": {},
   "outputs": [],
   "source": [
    "def DL_Model(activation= 'linear', neurons= 5, optimizer='Adam'):\n",
    "    model = Sequential()\n",
    "    model.add(Dense(neurons, input_dim= 4, activation= activation))\n",
    "    model.add(Dense(neurons, activation= activation))\n",
    "    model.add(Dropout(0.3))\n",
    "    model.add(Dense(1, activation='sigmoid'))\n",
    "    model.compile(loss='binary_crossentropy', optimizer= optimizer, metrics=['accuracy'])\n",
    "    return model"
   ]
  },
  {
   "cell_type": "code",
   "execution_count": 17,
   "id": "674de2fd",
   "metadata": {},
   "outputs": [
    {
     "name": "stderr",
     "output_type": "stream",
     "text": [
      "C:\\Users\\urmi.pandya\\.conda\\envs\\greykite\\lib\\site-packages\\ipykernel_launcher.py:7: DeprecationWarning: KerasClassifier is deprecated, use Sci-Keras (https://github.com/adriangb/scikeras) instead. See https://www.adriangb.com/scikeras/stable/migration.html for help migrating.\n",
      "  import sys\n"
     ]
    }
   ],
   "source": [
    "# Defining grid parameters\n",
    "activation = ['softmax', 'relu']\n",
    "neurons = [5, 10]\n",
    "optimizer = ['Adam', 'Adamax']\n",
    "param_grid = dict(activation = activation, neurons = neurons, optimizer = optimizer)\n",
    "\n",
    "clf = KerasClassifier(build_fn= DL_Model, epochs= 5, batch_size=1024, verbose= 2)"
   ]
  },
  {
   "cell_type": "code",
   "execution_count": 18,
   "id": "5165daf7",
   "metadata": {},
   "outputs": [
    {
     "name": "stdout",
     "output_type": "stream",
     "text": [
      "Epoch 1/5\n",
      "195/195 - 2s - loss: 0.3334 - accuracy: 0.9385 - 2s/epoch - 12ms/step\n",
      "Epoch 2/5\n",
      "195/195 - 0s - loss: 0.0562 - accuracy: 0.9981 - 483ms/epoch - 2ms/step\n",
      "Epoch 3/5\n",
      "195/195 - 0s - loss: 0.0277 - accuracy: 0.9982 - 432ms/epoch - 2ms/step\n",
      "Epoch 4/5\n",
      "195/195 - 0s - loss: 0.0173 - accuracy: 0.9983 - 444ms/epoch - 2ms/step\n",
      "Epoch 5/5\n",
      "195/195 - 0s - loss: 0.0127 - accuracy: 0.9983 - 416ms/epoch - 2ms/step\n"
     ]
    },
    {
     "data": {
      "text/plain": [
       "GridSearchCV(estimator=<keras.wrappers.scikit_learn.KerasClassifier object at 0x0000014B63C091C8>,\n",
       "             n_jobs=-1,\n",
       "             param_grid={'activation': ['softmax', 'relu'], 'neurons': [5, 10],\n",
       "                         'optimizer': ['Adam', 'Adamax']})"
      ]
     },
     "execution_count": 18,
     "metadata": {},
     "output_type": "execute_result"
    }
   ],
   "source": [
    "model = GridSearchCV(estimator= clf, param_grid=param_grid, n_jobs=-1)\n",
    "model.fit(X_Train,Y_Train)"
   ]
  },
  {
   "cell_type": "code",
   "execution_count": 19,
   "id": "c0f8b482",
   "metadata": {},
   "outputs": [
    {
     "name": "stdout",
     "output_type": "stream",
     "text": [
      "Max Accuracy Registred: 0.999 using {'activation': 'relu', 'neurons': 10, 'optimizer': 'Adam'}\n"
     ]
    }
   ],
   "source": [
    "print(\"Max Accuracy Registred: {} using {}\".format(round(model.best_score_,3), \n",
    "                                                   model.best_params_))"
   ]
  },
  {
   "cell_type": "code",
   "execution_count": 20,
   "id": "e57dbfb4",
   "metadata": {},
   "outputs": [
    {
     "name": "stdout",
     "output_type": "stream",
     "text": [
      "2671/2671 [==============================] - 4s 1ms/step\n",
      "[[85297     2]\n",
      " [  140     4]]\n",
      "              precision    recall  f1-score   support\n",
      "\n",
      "           0       1.00      1.00      1.00     85299\n",
      "           1       0.67      0.03      0.05       144\n",
      "\n",
      "    accuracy                           1.00     85443\n",
      "   macro avg       0.83      0.51      0.53     85443\n",
      "weighted avg       1.00      1.00      1.00     85443\n",
      "\n"
     ]
    }
   ],
   "source": [
    "prediction_test = model.predict(X_Test)\n",
    "print(confusion_matrix(Y_Test,prediction_test))\n",
    "print(classification_report(Y_Test,prediction_test))\n",
    "accuracy_ANN = accuracy_score(Y_Test,prediction_test)"
   ]
  },
  {
   "cell_type": "code",
   "execution_count": 21,
   "id": "9afd70bf",
   "metadata": {},
   "outputs": [
    {
     "name": "stdout",
     "output_type": "stream",
     "text": [
      "Collecting optuna\n",
      "  Downloading optuna-3.1.1-py3-none-any.whl (365 kB)\n",
      "     -------------------------------------- 365.7/365.7 kB 1.8 MB/s eta 0:00:00\n",
      "Requirement already satisfied: numpy in c:\\users\\urmi.pandya\\.conda\\envs\\greykite\\lib\\site-packages (from optuna) (1.21.6)\n",
      "Collecting sqlalchemy>=1.3.0\n",
      "  Downloading SQLAlchemy-2.0.10-cp37-cp37m-win_amd64.whl (2.0 MB)\n",
      "     ---------------------------------------- 2.0/2.0 MB 9.0 MB/s eta 0:00:00\n",
      "Collecting colorlog\n",
      "  Downloading colorlog-6.7.0-py2.py3-none-any.whl (11 kB)\n",
      "Requirement already satisfied: tqdm in c:\\users\\urmi.pandya\\.conda\\envs\\greykite\\lib\\site-packages (from optuna) (4.64.1)\n",
      "Collecting PyYAML\n",
      "  Downloading PyYAML-6.0-cp37-cp37m-win_amd64.whl (153 kB)\n",
      "     -------------------------------------- 153.2/153.2 kB 9.5 MB/s eta 0:00:00\n",
      "Collecting alembic>=1.5.0\n",
      "  Downloading alembic-1.10.4-py3-none-any.whl (212 kB)\n",
      "     -------------------------------------- 212.9/212.9 kB 6.5 MB/s eta 0:00:00\n",
      "Collecting cmaes>=0.9.1\n",
      "  Downloading cmaes-0.9.1-py3-none-any.whl (21 kB)\n",
      "Requirement already satisfied: packaging>=20.0 in c:\\users\\urmi.pandya\\.conda\\envs\\greykite\\lib\\site-packages (from optuna) (23.0)\n",
      "Requirement already satisfied: importlib-resources in c:\\users\\urmi.pandya\\.conda\\envs\\greykite\\lib\\site-packages (from alembic>=1.5.0->optuna) (5.2.0)\n",
      "Collecting Mako\n",
      "  Downloading Mako-1.2.4-py3-none-any.whl (78 kB)\n",
      "     ---------------------------------------- 78.7/78.7 kB 4.6 MB/s eta 0:00:00\n",
      "Requirement already satisfied: importlib-metadata in c:\\users\\urmi.pandya\\.conda\\envs\\greykite\\lib\\site-packages (from alembic>=1.5.0->optuna) (6.0.0)\n",
      "Requirement already satisfied: typing-extensions>=4 in c:\\users\\urmi.pandya\\.conda\\envs\\greykite\\lib\\site-packages (from alembic>=1.5.0->optuna) (4.5.0)\n",
      "Collecting greenlet!=0.4.17\n",
      "  Downloading greenlet-2.0.2-cp37-cp37m-win_amd64.whl (192 kB)\n",
      "     ------------------------------------- 192.4/192.4 kB 11.4 MB/s eta 0:00:00\n",
      "Requirement already satisfied: colorama in c:\\users\\urmi.pandya\\.conda\\envs\\greykite\\lib\\site-packages (from colorlog->optuna) (0.4.6)\n",
      "Requirement already satisfied: zipp>=0.5 in c:\\users\\urmi.pandya\\.conda\\envs\\greykite\\lib\\site-packages (from importlib-metadata->alembic>=1.5.0->optuna) (3.15.0)\n",
      "Requirement already satisfied: MarkupSafe>=0.9.2 in c:\\users\\urmi.pandya\\.conda\\envs\\greykite\\lib\\site-packages (from Mako->alembic>=1.5.0->optuna) (2.1.1)\n",
      "Installing collected packages: PyYAML, greenlet, colorlog, cmaes, sqlalchemy, Mako, alembic, optuna\n",
      "Successfully installed Mako-1.2.4 PyYAML-6.0 alembic-1.10.4 cmaes-0.9.1 colorlog-6.7.0 greenlet-2.0.2 optuna-3.1.1 sqlalchemy-2.0.10\n"
     ]
    }
   ],
   "source": [
    "!pip install optuna"
   ]
  },
  {
   "cell_type": "code",
   "execution_count": 22,
   "id": "1ed0f911",
   "metadata": {},
   "outputs": [
    {
     "name": "stderr",
     "output_type": "stream",
     "text": [
      "\u001b[32m[I 2023-04-25 15:10:27,192]\u001b[0m A new study created in memory with name: no-name-a81ae8d4-21f4-4394-927d-5f9d9f98c433\u001b[0m\n",
      "C:\\Users\\urmi.pandya\\.conda\\envs\\greykite\\lib\\site-packages\\ipykernel_launcher.py:15: FutureWarning: suggest_loguniform has been deprecated in v3.0.0. This feature will be removed in v6.0.0. See https://github.com/optuna/optuna/releases/tag/v3.0.0. Use :func:`~optuna.trial.Trial.suggest_float` instead.\n",
      "  from ipykernel import kernelapp as app\n",
      "\u001b[32m[I 2023-04-25 15:10:27,238]\u001b[0m Trial 0 finished with value: 0.9992392589211521 and parameters: {'classifier': 'SVC', 'svc_c': 7009.531815589809}. Best is trial 0 with value: 0.9992392589211521.\u001b[0m\n",
      "\u001b[32m[I 2023-04-25 15:10:27,242]\u001b[0m Trial 1 finished with value: 0.9992392589211521 and parameters: {'classifier': 'SVC', 'svc_c': 0.009423194368930387}. Best is trial 0 with value: 0.9992392589211521.\u001b[0m\n",
      "C:\\Users\\urmi.pandya\\.conda\\envs\\greykite\\lib\\site-packages\\ipykernel_launcher.py:18: FutureWarning: suggest_loguniform has been deprecated in v3.0.0. This feature will be removed in v6.0.0. See https://github.com/optuna/optuna/releases/tag/v3.0.0. Use :func:`~optuna.trial.Trial.suggest_float` instead.\n",
      "\u001b[32m[I 2023-04-25 15:10:27,247]\u001b[0m Trial 2 finished with value: 0.9992392589211521 and parameters: {'classifier': 'RandomForest', 'rf_max_depth': 2.2437368055584734}. Best is trial 0 with value: 0.9992392589211521.\u001b[0m\n",
      "\u001b[32m[I 2023-04-25 15:10:27,252]\u001b[0m Trial 3 finished with value: 0.9992392589211521 and parameters: {'classifier': 'RandomForest', 'rf_max_depth': 7.754166499176945}. Best is trial 0 with value: 0.9992392589211521.\u001b[0m\n",
      "\u001b[32m[I 2023-04-25 15:10:27,262]\u001b[0m Trial 4 finished with value: 0.9992392589211521 and parameters: {'classifier': 'SVC', 'svc_c': 25767.149252546744}. Best is trial 0 with value: 0.9992392589211521.\u001b[0m\n",
      "\u001b[32m[I 2023-04-25 15:10:27,274]\u001b[0m Trial 5 finished with value: 0.9992392589211521 and parameters: {'classifier': 'SVC', 'svc_c': 242315.56668830794}. Best is trial 0 with value: 0.9992392589211521.\u001b[0m\n",
      "\u001b[32m[I 2023-04-25 15:10:27,285]\u001b[0m Trial 6 finished with value: 0.9992392589211521 and parameters: {'classifier': 'RandomForest', 'rf_max_depth': 28.482048203632026}. Best is trial 0 with value: 0.9992392589211521.\u001b[0m\n",
      "\u001b[32m[I 2023-04-25 15:10:27,293]\u001b[0m Trial 7 finished with value: 0.9992392589211521 and parameters: {'classifier': 'SVC', 'svc_c': 73347.03412952497}. Best is trial 0 with value: 0.9992392589211521.\u001b[0m\n",
      "\u001b[32m[I 2023-04-25 15:10:27,306]\u001b[0m Trial 8 finished with value: 0.9992392589211521 and parameters: {'classifier': 'SVC', 'svc_c': 1.2779220589519082e-06}. Best is trial 0 with value: 0.9992392589211521.\u001b[0m\n",
      "\u001b[32m[I 2023-04-25 15:10:27,311]\u001b[0m Trial 9 finished with value: 0.9992392589211521 and parameters: {'classifier': 'SVC', 'svc_c': 3825.7395129998126}. Best is trial 0 with value: 0.9992392589211521.\u001b[0m\n",
      "\u001b[32m[I 2023-04-25 15:10:27,327]\u001b[0m Trial 10 finished with value: 0.9992392589211521 and parameters: {'classifier': 'RandomForest', 'rf_max_depth': 2.0595816331193375}. Best is trial 0 with value: 0.9992392589211521.\u001b[0m\n",
      "\u001b[32m[I 2023-04-25 15:10:27,351]\u001b[0m Trial 11 finished with value: 0.9992392589211521 and parameters: {'classifier': 'SVC', 'svc_c': 0.015048443894191318}. Best is trial 0 with value: 0.9992392589211521.\u001b[0m\n",
      "\u001b[32m[I 2023-04-25 15:10:27,370]\u001b[0m Trial 12 finished with value: 0.9992392589211521 and parameters: {'classifier': 'SVC', 'svc_c': 0.07046310740290639}. Best is trial 0 with value: 0.9992392589211521.\u001b[0m\n",
      "\u001b[32m[I 2023-04-25 15:10:27,390]\u001b[0m Trial 13 finished with value: 0.9992392589211521 and parameters: {'classifier': 'SVC', 'svc_c': 5353980157.301029}. Best is trial 0 with value: 0.9992392589211521.\u001b[0m\n",
      "\u001b[32m[I 2023-04-25 15:10:27,543]\u001b[0m Trial 14 finished with value: 0.9992392589211521 and parameters: {'classifier': 'SVC', 'svc_c': 4.2395924034836197e-10}. Best is trial 0 with value: 0.9992392589211521.\u001b[0m\n",
      "\u001b[32m[I 2023-04-25 15:10:27,593]\u001b[0m Trial 15 finished with value: 0.9992392589211521 and parameters: {'classifier': 'SVC', 'svc_c': 1.6563267165607174}. Best is trial 0 with value: 0.9992392589211521.\u001b[0m\n",
      "\u001b[32m[I 2023-04-25 15:10:27,613]\u001b[0m Trial 16 finished with value: 0.9992392589211521 and parameters: {'classifier': 'SVC', 'svc_c': 7.292536715793879e-05}. Best is trial 0 with value: 0.9992392589211521.\u001b[0m\n",
      "\u001b[32m[I 2023-04-25 15:10:27,628]\u001b[0m Trial 17 finished with value: 0.9992392589211521 and parameters: {'classifier': 'SVC', 'svc_c': 46.962735511259055}. Best is trial 0 with value: 0.9992392589211521.\u001b[0m\n",
      "\u001b[32m[I 2023-04-25 15:10:27,641]\u001b[0m Trial 18 finished with value: 0.9992392589211521 and parameters: {'classifier': 'RandomForest', 'rf_max_depth': 29.393171288585727}. Best is trial 0 with value: 0.9992392589211521.\u001b[0m\n",
      "\u001b[32m[I 2023-04-25 15:10:27,653]\u001b[0m Trial 19 finished with value: 0.9992392589211521 and parameters: {'classifier': 'SVC', 'svc_c': 0.000850849763085007}. Best is trial 0 with value: 0.9992392589211521.\u001b[0m\n",
      "\u001b[32m[I 2023-04-25 15:10:27,665]\u001b[0m Trial 20 finished with value: 0.9992392589211521 and parameters: {'classifier': 'SVC', 'svc_c': 17.94163347054383}. Best is trial 0 with value: 0.9992392589211521.\u001b[0m\n",
      "\u001b[32m[I 2023-04-25 15:10:27,681]\u001b[0m Trial 21 finished with value: 0.9992392589211521 and parameters: {'classifier': 'RandomForest', 'rf_max_depth': 2.671794796478237}. Best is trial 0 with value: 0.9992392589211521.\u001b[0m\n",
      "\u001b[32m[I 2023-04-25 15:10:27,692]\u001b[0m Trial 22 finished with value: 0.9992392589211521 and parameters: {'classifier': 'RandomForest', 'rf_max_depth': 4.161208354869582}. Best is trial 0 with value: 0.9992392589211521.\u001b[0m\n",
      "\u001b[32m[I 2023-04-25 15:10:27,751]\u001b[0m Trial 23 finished with value: 0.9992392589211521 and parameters: {'classifier': 'RandomForest', 'rf_max_depth': 4.6609442283342135}. Best is trial 0 with value: 0.9992392589211521.\u001b[0m\n",
      "\u001b[32m[I 2023-04-25 15:10:27,836]\u001b[0m Trial 24 finished with value: 0.9992392589211521 and parameters: {'classifier': 'RandomForest', 'rf_max_depth': 2.166074942846377}. Best is trial 0 with value: 0.9992392589211521.\u001b[0m\n",
      "\u001b[32m[I 2023-04-25 15:10:27,848]\u001b[0m Trial 25 finished with value: 0.9992392589211521 and parameters: {'classifier': 'RandomForest', 'rf_max_depth': 12.907925683550602}. Best is trial 0 with value: 0.9992392589211521.\u001b[0m\n",
      "\u001b[32m[I 2023-04-25 15:10:27,860]\u001b[0m Trial 26 finished with value: 0.9992392589211521 and parameters: {'classifier': 'RandomForest', 'rf_max_depth': 3.917941822948759}. Best is trial 0 with value: 0.9992392589211521.\u001b[0m\n",
      "\u001b[32m[I 2023-04-25 15:10:27,918]\u001b[0m Trial 27 finished with value: 0.9992392589211521 and parameters: {'classifier': 'SVC', 'svc_c': 5.138162555486784e-06}. Best is trial 0 with value: 0.9992392589211521.\u001b[0m\n",
      "\u001b[32m[I 2023-04-25 15:10:27,933]\u001b[0m Trial 28 finished with value: 0.9992392589211521 and parameters: {'classifier': 'RandomForest', 'rf_max_depth': 6.495981150681909}. Best is trial 0 with value: 0.9992392589211521.\u001b[0m\n",
      "\u001b[32m[I 2023-04-25 15:10:27,959]\u001b[0m Trial 29 finished with value: 0.9992392589211521 and parameters: {'classifier': 'RandomForest', 'rf_max_depth': 2.928850919095877}. Best is trial 0 with value: 0.9992392589211521.\u001b[0m\n",
      "\u001b[32m[I 2023-04-25 15:10:27,987]\u001b[0m Trial 30 finished with value: 0.9992392589211521 and parameters: {'classifier': 'SVC', 'svc_c': 0.1322084302902105}. Best is trial 0 with value: 0.9992392589211521.\u001b[0m\n",
      "\u001b[32m[I 2023-04-25 15:10:28,002]\u001b[0m Trial 31 finished with value: 0.9992392589211521 and parameters: {'classifier': 'RandomForest', 'rf_max_depth': 8.992811828480335}. Best is trial 0 with value: 0.9992392589211521.\u001b[0m\n",
      "\u001b[32m[I 2023-04-25 15:10:28,046]\u001b[0m Trial 32 finished with value: 0.9992392589211521 and parameters: {'classifier': 'RandomForest', 'rf_max_depth': 6.746711928980398}. Best is trial 0 with value: 0.9992392589211521.\u001b[0m\n",
      "\u001b[32m[I 2023-04-25 15:10:28,076]\u001b[0m Trial 33 finished with value: 0.9992392589211521 and parameters: {'classifier': 'RandomForest', 'rf_max_depth': 11.134351159735685}. Best is trial 0 with value: 0.9992392589211521.\u001b[0m\n",
      "\u001b[32m[I 2023-04-25 15:10:28,113]\u001b[0m Trial 34 finished with value: 0.9992392589211521 and parameters: {'classifier': 'RandomForest', 'rf_max_depth': 3.1981095702438456}. Best is trial 0 with value: 0.9992392589211521.\u001b[0m\n"
     ]
    },
    {
     "name": "stderr",
     "output_type": "stream",
     "text": [
      "\u001b[32m[I 2023-04-25 15:10:28,152]\u001b[0m Trial 35 finished with value: 0.9992392589211521 and parameters: {'classifier': 'SVC', 'svc_c': 35848776.58549389}. Best is trial 0 with value: 0.9992392589211521.\u001b[0m\n",
      "\u001b[32m[I 2023-04-25 15:10:28,183]\u001b[0m Trial 36 finished with value: 0.9992392589211521 and parameters: {'classifier': 'SVC', 'svc_c': 137.19822551604057}. Best is trial 0 with value: 0.9992392589211521.\u001b[0m\n",
      "\u001b[32m[I 2023-04-25 15:10:28,202]\u001b[0m Trial 37 finished with value: 0.9992392589211521 and parameters: {'classifier': 'RandomForest', 'rf_max_depth': 6.072855512477474}. Best is trial 0 with value: 0.9992392589211521.\u001b[0m\n",
      "\u001b[32m[I 2023-04-25 15:10:28,216]\u001b[0m Trial 38 finished with value: 0.9992392589211521 and parameters: {'classifier': 'SVC', 'svc_c': 436.902517024625}. Best is trial 0 with value: 0.9992392589211521.\u001b[0m\n",
      "\u001b[32m[I 2023-04-25 15:10:28,236]\u001b[0m Trial 39 finished with value: 0.9992392589211521 and parameters: {'classifier': 'RandomForest', 'rf_max_depth': 5.031351412668699}. Best is trial 0 with value: 0.9992392589211521.\u001b[0m\n",
      "\u001b[32m[I 2023-04-25 15:10:28,253]\u001b[0m Trial 40 finished with value: 0.9992392589211521 and parameters: {'classifier': 'SVC', 'svc_c': 2.1356051526685538}. Best is trial 0 with value: 0.9992392589211521.\u001b[0m\n",
      "\u001b[32m[I 2023-04-25 15:10:28,268]\u001b[0m Trial 41 finished with value: 0.9992392589211521 and parameters: {'classifier': 'SVC', 'svc_c': 24878.922423196487}. Best is trial 0 with value: 0.9992392589211521.\u001b[0m\n",
      "\u001b[32m[I 2023-04-25 15:10:28,293]\u001b[0m Trial 42 finished with value: 0.9992392589211521 and parameters: {'classifier': 'SVC', 'svc_c': 6215370.899226273}. Best is trial 0 with value: 0.9992392589211521.\u001b[0m\n",
      "\u001b[32m[I 2023-04-25 15:10:28,309]\u001b[0m Trial 43 finished with value: 0.9992392589211521 and parameters: {'classifier': 'SVC', 'svc_c': 1774.3945846263102}. Best is trial 0 with value: 0.9992392589211521.\u001b[0m\n",
      "\u001b[32m[I 2023-04-25 15:10:28,323]\u001b[0m Trial 44 finished with value: 0.9992392589211521 and parameters: {'classifier': 'SVC', 'svc_c': 5.345280529422618}. Best is trial 0 with value: 0.9992392589211521.\u001b[0m\n",
      "\u001b[32m[I 2023-04-25 15:10:28,341]\u001b[0m Trial 45 finished with value: 0.9992392589211521 and parameters: {'classifier': 'SVC', 'svc_c': 1293146.5432151498}. Best is trial 0 with value: 0.9992392589211521.\u001b[0m\n",
      "\u001b[32m[I 2023-04-25 15:10:28,423]\u001b[0m Trial 46 finished with value: 0.9992392589211521 and parameters: {'classifier': 'SVC', 'svc_c': 3900.0530476051717}. Best is trial 0 with value: 0.9992392589211521.\u001b[0m\n",
      "\u001b[32m[I 2023-04-25 15:10:28,444]\u001b[0m Trial 47 finished with value: 0.9992392589211521 and parameters: {'classifier': 'SVC', 'svc_c': 79.2971793090977}. Best is trial 0 with value: 0.9992392589211521.\u001b[0m\n",
      "\u001b[32m[I 2023-04-25 15:10:28,493]\u001b[0m Trial 48 finished with value: 0.9992392589211521 and parameters: {'classifier': 'SVC', 'svc_c': 154441.99408065362}. Best is trial 0 with value: 0.9992392589211521.\u001b[0m\n",
      "\u001b[32m[I 2023-04-25 15:10:28,517]\u001b[0m Trial 49 finished with value: 0.9992392589211521 and parameters: {'classifier': 'RandomForest', 'rf_max_depth': 3.220792918040543}. Best is trial 0 with value: 0.9992392589211521.\u001b[0m\n",
      "\u001b[32m[I 2023-04-25 15:10:28,586]\u001b[0m Trial 50 finished with value: 0.9992392589211521 and parameters: {'classifier': 'SVC', 'svc_c': 37999049.03611034}. Best is trial 0 with value: 0.9992392589211521.\u001b[0m\n",
      "\u001b[32m[I 2023-04-25 15:10:28,621]\u001b[0m Trial 51 finished with value: 0.9992392589211521 and parameters: {'classifier': 'SVC', 'svc_c': 85579.6812187321}. Best is trial 0 with value: 0.9992392589211521.\u001b[0m\n",
      "\u001b[32m[I 2023-04-25 15:10:28,663]\u001b[0m Trial 52 finished with value: 0.9992392589211521 and parameters: {'classifier': 'SVC', 'svc_c': 43404.345360470375}. Best is trial 0 with value: 0.9992392589211521.\u001b[0m\n",
      "\u001b[32m[I 2023-04-25 15:10:28,697]\u001b[0m Trial 53 finished with value: 0.9992392589211521 and parameters: {'classifier': 'SVC', 'svc_c': 672.1094413585125}. Best is trial 0 with value: 0.9992392589211521.\u001b[0m\n",
      "\u001b[32m[I 2023-04-25 15:10:28,722]\u001b[0m Trial 54 finished with value: 0.9992392589211521 and parameters: {'classifier': 'SVC', 'svc_c': 476288.17449341936}. Best is trial 0 with value: 0.9992392589211521.\u001b[0m\n",
      "\u001b[32m[I 2023-04-25 15:10:28,741]\u001b[0m Trial 55 finished with value: 0.9992392589211521 and parameters: {'classifier': 'SVC', 'svc_c': 6120.096810655826}. Best is trial 0 with value: 0.9992392589211521.\u001b[0m\n",
      "\u001b[32m[I 2023-04-25 15:10:28,767]\u001b[0m Trial 56 finished with value: 0.9992392589211521 and parameters: {'classifier': 'RandomForest', 'rf_max_depth': 16.008792300961645}. Best is trial 0 with value: 0.9992392589211521.\u001b[0m\n",
      "\u001b[32m[I 2023-04-25 15:10:28,780]\u001b[0m Trial 57 finished with value: 0.9992392589211521 and parameters: {'classifier': 'SVC', 'svc_c': 0.055947260193829756}. Best is trial 0 with value: 0.9992392589211521.\u001b[0m\n",
      "\u001b[32m[I 2023-04-25 15:10:28,799]\u001b[0m Trial 58 finished with value: 0.9992392589211521 and parameters: {'classifier': 'RandomForest', 'rf_max_depth': 8.392227314636889}. Best is trial 0 with value: 0.9992392589211521.\u001b[0m\n",
      "\u001b[32m[I 2023-04-25 15:10:28,813]\u001b[0m Trial 59 finished with value: 0.9992392589211521 and parameters: {'classifier': 'SVC', 'svc_c': 0.41972339950436843}. Best is trial 0 with value: 0.9992392589211521.\u001b[0m\n",
      "\u001b[32m[I 2023-04-25 15:10:28,828]\u001b[0m Trial 60 finished with value: 0.9992392589211521 and parameters: {'classifier': 'RandomForest', 'rf_max_depth': 5.370351692678376}. Best is trial 0 with value: 0.9992392589211521.\u001b[0m\n",
      "\u001b[32m[I 2023-04-25 15:10:28,849]\u001b[0m Trial 61 finished with value: 0.9992392589211521 and parameters: {'classifier': 'RandomForest', 'rf_max_depth': 18.903885994857553}. Best is trial 0 with value: 0.9992392589211521.\u001b[0m\n",
      "\u001b[32m[I 2023-04-25 15:10:28,863]\u001b[0m Trial 62 finished with value: 0.9992392589211521 and parameters: {'classifier': 'RandomForest', 'rf_max_depth': 7.533400246727804}. Best is trial 0 with value: 0.9992392589211521.\u001b[0m\n",
      "\u001b[32m[I 2023-04-25 15:10:28,877]\u001b[0m Trial 63 finished with value: 0.9992392589211521 and parameters: {'classifier': 'RandomForest', 'rf_max_depth': 28.280021903318122}. Best is trial 0 with value: 0.9992392589211521.\u001b[0m\n",
      "\u001b[32m[I 2023-04-25 15:10:28,891]\u001b[0m Trial 64 finished with value: 0.9992392589211521 and parameters: {'classifier': 'RandomForest', 'rf_max_depth': 9.981298855359286}. Best is trial 0 with value: 0.9992392589211521.\u001b[0m\n",
      "\u001b[32m[I 2023-04-25 15:10:28,919]\u001b[0m Trial 65 finished with value: 0.9992392589211521 and parameters: {'classifier': 'RandomForest', 'rf_max_depth': 21.30924270649563}. Best is trial 0 with value: 0.9992392589211521.\u001b[0m\n",
      "\u001b[32m[I 2023-04-25 15:10:28,936]\u001b[0m Trial 66 finished with value: 0.9992392589211521 and parameters: {'classifier': 'RandomForest', 'rf_max_depth': 12.787971200118948}. Best is trial 0 with value: 0.9992392589211521.\u001b[0m\n",
      "\u001b[32m[I 2023-04-25 15:10:28,953]\u001b[0m Trial 67 finished with value: 0.9992392589211521 and parameters: {'classifier': 'SVC', 'svc_c': 0.003064307544229583}. Best is trial 0 with value: 0.9992392589211521.\u001b[0m\n",
      "\u001b[32m[I 2023-04-25 15:10:28,968]\u001b[0m Trial 68 finished with value: 0.9992392589211521 and parameters: {'classifier': 'RandomForest', 'rf_max_depth': 7.540029643627827}. Best is trial 0 with value: 0.9992392589211521.\u001b[0m\n",
      "\u001b[32m[I 2023-04-25 15:10:28,990]\u001b[0m Trial 69 finished with value: 0.9992392589211521 and parameters: {'classifier': 'SVC', 'svc_c': 1442442965.6365166}. Best is trial 0 with value: 0.9992392589211521.\u001b[0m\n",
      "\u001b[32m[I 2023-04-25 15:10:29,004]\u001b[0m Trial 70 finished with value: 0.9992392589211521 and parameters: {'classifier': 'RandomForest', 'rf_max_depth': 2.4068286710321654}. Best is trial 0 with value: 0.9992392589211521.\u001b[0m\n",
      "\u001b[32m[I 2023-04-25 15:10:29,030]\u001b[0m Trial 71 finished with value: 0.9992392589211521 and parameters: {'classifier': 'SVC', 'svc_c': 15652.31872635684}. Best is trial 0 with value: 0.9992392589211521.\u001b[0m\n",
      "\u001b[32m[I 2023-04-25 15:10:29,049]\u001b[0m Trial 72 finished with value: 0.9992392589211521 and parameters: {'classifier': 'SVC', 'svc_c': 2507859.395272436}. Best is trial 0 with value: 0.9992392589211521.\u001b[0m\n",
      "\u001b[32m[I 2023-04-25 15:10:29,065]\u001b[0m Trial 73 finished with value: 0.9992392589211521 and parameters: {'classifier': 'SVC', 'svc_c': 153752.61249397387}. Best is trial 0 with value: 0.9992392589211521.\u001b[0m\n"
     ]
    },
    {
     "name": "stderr",
     "output_type": "stream",
     "text": [
      "\u001b[32m[I 2023-04-25 15:10:29,082]\u001b[0m Trial 74 finished with value: 0.9992392589211521 and parameters: {'classifier': 'SVC', 'svc_c': 915.9718648651917}. Best is trial 0 with value: 0.9992392589211521.\u001b[0m\n",
      "\u001b[32m[I 2023-04-25 15:10:29,100]\u001b[0m Trial 75 finished with value: 0.9992392589211521 and parameters: {'classifier': 'SVC', 'svc_c': 17.522144581953988}. Best is trial 0 with value: 0.9992392589211521.\u001b[0m\n",
      "\u001b[32m[I 2023-04-25 15:10:29,152]\u001b[0m Trial 76 finished with value: 0.9992392589211521 and parameters: {'classifier': 'SVC', 'svc_c': 8594.85624470197}. Best is trial 0 with value: 0.9992392589211521.\u001b[0m\n",
      "\u001b[32m[I 2023-04-25 15:10:29,171]\u001b[0m Trial 77 finished with value: 0.9992392589211521 and parameters: {'classifier': 'SVC', 'svc_c': 156.96537538982122}. Best is trial 0 with value: 0.9992392589211521.\u001b[0m\n",
      "\u001b[32m[I 2023-04-25 15:10:29,214]\u001b[0m Trial 78 finished with value: 0.9992392589211521 and parameters: {'classifier': 'RandomForest', 'rf_max_depth': 2.0527519550852076}. Best is trial 0 with value: 0.9992392589211521.\u001b[0m\n",
      "\u001b[32m[I 2023-04-25 15:10:29,251]\u001b[0m Trial 79 finished with value: 0.9992392589211521 and parameters: {'classifier': 'SVC', 'svc_c': 390830.02894325025}. Best is trial 0 with value: 0.9992392589211521.\u001b[0m\n",
      "\u001b[32m[I 2023-04-25 15:10:29,280]\u001b[0m Trial 80 finished with value: 0.9992392589211521 and parameters: {'classifier': 'RandomForest', 'rf_max_depth': 3.660686143520163}. Best is trial 0 with value: 0.9992392589211521.\u001b[0m\n",
      "\u001b[32m[I 2023-04-25 15:10:29,294]\u001b[0m Trial 81 finished with value: 0.9992392589211521 and parameters: {'classifier': 'SVC', 'svc_c': 1.3870998389366533e-07}. Best is trial 0 with value: 0.9992392589211521.\u001b[0m\n",
      "\u001b[32m[I 2023-04-25 15:10:29,318]\u001b[0m Trial 82 finished with value: 0.9992392589211521 and parameters: {'classifier': 'SVC', 'svc_c': 3.364064584598344e-05}. Best is trial 0 with value: 0.9992392589211521.\u001b[0m\n",
      "\u001b[32m[I 2023-04-25 15:10:29,341]\u001b[0m Trial 83 finished with value: 0.9992392589211521 and parameters: {'classifier': 'SVC', 'svc_c': 0.008099331783684863}. Best is trial 0 with value: 0.9992392589211521.\u001b[0m\n",
      "\u001b[32m[I 2023-04-25 15:10:29,353]\u001b[0m Trial 84 finished with value: 0.9992392589211521 and parameters: {'classifier': 'SVC', 'svc_c': 4.589646013195208}. Best is trial 0 with value: 0.9992392589211521.\u001b[0m\n",
      "\u001b[32m[I 2023-04-25 15:10:29,376]\u001b[0m Trial 85 finished with value: 0.9992392589211521 and parameters: {'classifier': 'SVC', 'svc_c': 0.4858803017108786}. Best is trial 0 with value: 0.9992392589211521.\u001b[0m\n",
      "\u001b[32m[I 2023-04-25 15:10:29,389]\u001b[0m Trial 86 finished with value: 0.9992392589211521 and parameters: {'classifier': 'SVC', 'svc_c': 0.0011296098318949077}. Best is trial 0 with value: 0.9992392589211521.\u001b[0m\n",
      "\u001b[32m[I 2023-04-25 15:10:29,406]\u001b[0m Trial 87 finished with value: 0.9992392589211521 and parameters: {'classifier': 'SVC', 'svc_c': 0.03644162005994325}. Best is trial 0 with value: 0.9992392589211521.\u001b[0m\n",
      "\u001b[32m[I 2023-04-25 15:10:29,431]\u001b[0m Trial 88 finished with value: 0.9992392589211521 and parameters: {'classifier': 'RandomForest', 'rf_max_depth': 5.579624530480874}. Best is trial 0 with value: 0.9992392589211521.\u001b[0m\n",
      "\u001b[32m[I 2023-04-25 15:10:29,447]\u001b[0m Trial 89 finished with value: 0.9992392589211521 and parameters: {'classifier': 'SVC', 'svc_c': 2169.3715322466887}. Best is trial 0 with value: 0.9992392589211521.\u001b[0m\n",
      "\u001b[32m[I 2023-04-25 15:10:29,464]\u001b[0m Trial 90 finished with value: 0.9992392589211521 and parameters: {'classifier': 'RandomForest', 'rf_max_depth': 4.47238375844883}. Best is trial 0 with value: 0.9992392589211521.\u001b[0m\n",
      "\u001b[32m[I 2023-04-25 15:10:29,483]\u001b[0m Trial 91 finished with value: 0.9992392589211521 and parameters: {'classifier': 'SVC', 'svc_c': 75152.78171755224}. Best is trial 0 with value: 0.9992392589211521.\u001b[0m\n",
      "\u001b[32m[I 2023-04-25 15:10:29,498]\u001b[0m Trial 92 finished with value: 0.9992392589211521 and parameters: {'classifier': 'SVC', 'svc_c': 278.2026822671845}. Best is trial 0 with value: 0.9992392589211521.\u001b[0m\n",
      "\u001b[32m[I 2023-04-25 15:10:29,513]\u001b[0m Trial 93 finished with value: 0.9992392589211521 and parameters: {'classifier': 'SVC', 'svc_c': 18482.636640317312}. Best is trial 0 with value: 0.9992392589211521.\u001b[0m\n",
      "\u001b[32m[I 2023-04-25 15:10:29,528]\u001b[0m Trial 94 finished with value: 0.9992392589211521 and parameters: {'classifier': 'SVC', 'svc_c': 44.95445751913318}. Best is trial 0 with value: 0.9992392589211521.\u001b[0m\n",
      "\u001b[32m[I 2023-04-25 15:10:29,548]\u001b[0m Trial 95 finished with value: 0.9992392589211521 and parameters: {'classifier': 'SVC', 'svc_c': 7463.657520646826}. Best is trial 0 with value: 0.9992392589211521.\u001b[0m\n",
      "\u001b[32m[I 2023-04-25 15:10:29,563]\u001b[0m Trial 96 finished with value: 0.9992392589211521 and parameters: {'classifier': 'SVC', 'svc_c': 1265.0365649509722}. Best is trial 0 with value: 0.9992392589211521.\u001b[0m\n",
      "\u001b[32m[I 2023-04-25 15:10:29,578]\u001b[0m Trial 97 finished with value: 0.9992392589211521 and parameters: {'classifier': 'RandomForest', 'rf_max_depth': 3.83493757829535}. Best is trial 0 with value: 0.9992392589211521.\u001b[0m\n",
      "\u001b[32m[I 2023-04-25 15:10:29,596]\u001b[0m Trial 98 finished with value: 0.9992392589211521 and parameters: {'classifier': 'SVC', 'svc_c': 4054645.9358782945}. Best is trial 0 with value: 0.9992392589211521.\u001b[0m\n",
      "\u001b[32m[I 2023-04-25 15:10:29,612]\u001b[0m Trial 99 finished with value: 0.9992392589211521 and parameters: {'classifier': 'RandomForest', 'rf_max_depth': 2.4940316097859165}. Best is trial 0 with value: 0.9992392589211521.\u001b[0m\n"
     ]
    }
   ],
   "source": [
    "import sklearn\n",
    "import sklearn.datasets\n",
    "import sklearn.ensemble\n",
    "import sklearn.model_selection\n",
    "import sklearn.svm\n",
    "import optuna\n",
    "\n",
    "# 1. Define an objective function to be maximized.\n",
    "def objective(trial):\n",
    "    iris = sklearn.datasets.load_iris()\n",
    "    x, y = iris.data, iris.target\n",
    "    # 2. Suggest values for the hyperparameters using a trial object.\n",
    "    classifier_name = trial.suggest_categorical('classifier', ['SVC', 'RandomForest'])\n",
    "    if classifier_name == 'SVC':\n",
    "         svc_c = trial.suggest_loguniform('svc_c', 1e-10, 1e10)\n",
    "         classifier_obj = sklearn.svm.SVC(C=svc_c, gamma='auto')\n",
    "    else:\n",
    "        rf_max_depth = int(trial.suggest_loguniform('rf_max_depth', 2, 32))\n",
    "        classifier_obj = sklearn.ensemble.RandomForestClassifier(max_depth=rf_max_depth, n_estimators=10)\n",
    "    ...\n",
    "    return accuracy\n",
    "\n",
    "\n",
    "# 3. Create a study object and optimize the objective function.\n",
    "study = optuna.create_study(direction='maximize')\n",
    "study.optimize(objective, n_trials=100)"
   ]
  },
  {
   "cell_type": "code",
   "execution_count": 23,
   "id": "e02730b2",
   "metadata": {},
   "outputs": [
    {
     "name": "stdout",
     "output_type": "stream",
     "text": [
      "Collecting parameter-sherpa\n",
      "  Downloading parameter-sherpa-1.0.6.tar.gz (513 kB)\n",
      "     -------------------------------------- 513.5/513.5 kB 1.6 MB/s eta 0:00:00\n",
      "  Preparing metadata (setup.py): started\n",
      "  Preparing metadata (setup.py): finished with status 'done'\n",
      "Requirement already satisfied: pandas>=0.20.3 in c:\\users\\urmi.pandya\\.conda\\envs\\greykite\\lib\\site-packages (from parameter-sherpa) (1.2.5)\n",
      "Collecting pymongo>=3.5.1\n",
      "  Downloading pymongo-4.3.3-cp37-cp37m-win_amd64.whl (382 kB)\n",
      "     ------------------------------------- 382.2/382.2 kB 12.0 MB/s eta 0:00:00\n",
      "Requirement already satisfied: numpy>=1.8.2 in c:\\users\\urmi.pandya\\.conda\\envs\\greykite\\lib\\site-packages (from parameter-sherpa) (1.21.6)\n",
      "Requirement already satisfied: scipy>=1.0.0 in c:\\users\\urmi.pandya\\.conda\\envs\\greykite\\lib\\site-packages (from parameter-sherpa) (1.7.3)\n",
      "Requirement already satisfied: scikit-learn>=0.19.1 in c:\\users\\urmi.pandya\\.conda\\envs\\greykite\\lib\\site-packages (from parameter-sherpa) (1.0.2)\n",
      "Collecting flask>=0.12.2\n",
      "  Downloading Flask-2.2.3-py3-none-any.whl (101 kB)\n",
      "     -------------------------------------- 101.8/101.8 kB 2.9 MB/s eta 0:00:00\n",
      "Collecting GPyOpt>=1.2.5\n",
      "  Downloading GPyOpt-1.2.6.tar.gz (56 kB)\n",
      "     ---------------------------------------- 56.8/56.8 kB 3.1 MB/s eta 0:00:00\n",
      "  Preparing metadata (setup.py): started\n",
      "  Preparing metadata (setup.py): finished with status 'done'\n",
      "Collecting enum34\n",
      "  Downloading enum34-1.1.10-py3-none-any.whl (11 kB)\n",
      "Requirement already satisfied: matplotlib in c:\\users\\urmi.pandya\\.conda\\envs\\greykite\\lib\\site-packages (from parameter-sherpa) (3.5.3)\n",
      "Requirement already satisfied: importlib-metadata>=3.6.0 in c:\\users\\urmi.pandya\\.conda\\envs\\greykite\\lib\\site-packages (from flask>=0.12.2->parameter-sherpa) (6.0.0)\n",
      "Requirement already satisfied: Werkzeug>=2.2.2 in c:\\users\\urmi.pandya\\.conda\\envs\\greykite\\lib\\site-packages (from flask>=0.12.2->parameter-sherpa) (2.2.3)\n",
      "Collecting click>=8.0\n",
      "  Downloading click-8.1.3-py3-none-any.whl (96 kB)\n",
      "     ---------------------------------------- 96.6/96.6 kB 5.4 MB/s eta 0:00:00\n",
      "Requirement already satisfied: Jinja2>=3.0 in c:\\users\\urmi.pandya\\.conda\\envs\\greykite\\lib\\site-packages (from flask>=0.12.2->parameter-sherpa) (3.1.2)\n",
      "Collecting itsdangerous>=2.0\n",
      "  Downloading itsdangerous-2.1.2-py3-none-any.whl (15 kB)\n",
      "Collecting GPy>=1.8\n",
      "  Downloading GPy-1.10.0-cp37-cp37m-win_amd64.whl (1.4 MB)\n",
      "     ---------------------------------------- 1.4/1.4 MB 8.1 MB/s eta 0:00:00\n",
      "Requirement already satisfied: pytz>=2017.3 in c:\\users\\urmi.pandya\\.conda\\envs\\greykite\\lib\\site-packages (from pandas>=0.20.3->parameter-sherpa) (2022.7.1)\n",
      "Requirement already satisfied: python-dateutil>=2.7.3 in c:\\users\\urmi.pandya\\.conda\\envs\\greykite\\lib\\site-packages (from pandas>=0.20.3->parameter-sherpa) (2.8.2)\n",
      "Collecting dnspython<3.0.0,>=1.16.0\n",
      "  Downloading dnspython-2.3.0-py3-none-any.whl (283 kB)\n",
      "     ------------------------------------- 283.7/283.7 kB 17.1 MB/s eta 0:00:00\n",
      "Requirement already satisfied: threadpoolctl>=2.0.0 in c:\\users\\urmi.pandya\\.conda\\envs\\greykite\\lib\\site-packages (from scikit-learn>=0.19.1->parameter-sherpa) (3.1.0)\n",
      "Requirement already satisfied: joblib>=0.11 in c:\\users\\urmi.pandya\\.conda\\envs\\greykite\\lib\\site-packages (from scikit-learn>=0.19.1->parameter-sherpa) (1.2.0)\n",
      "Requirement already satisfied: kiwisolver>=1.0.1 in c:\\users\\urmi.pandya\\.conda\\envs\\greykite\\lib\\site-packages (from matplotlib->parameter-sherpa) (1.4.4)\n",
      "Requirement already satisfied: cycler>=0.10 in c:\\users\\urmi.pandya\\.conda\\envs\\greykite\\lib\\site-packages (from matplotlib->parameter-sherpa) (0.11.0)\n",
      "Requirement already satisfied: pyparsing>=2.2.1 in c:\\users\\urmi.pandya\\.conda\\envs\\greykite\\lib\\site-packages (from matplotlib->parameter-sherpa) (3.0.9)\n",
      "Requirement already satisfied: packaging>=20.0 in c:\\users\\urmi.pandya\\.conda\\envs\\greykite\\lib\\site-packages (from matplotlib->parameter-sherpa) (23.0)\n",
      "Requirement already satisfied: pillow>=6.2.0 in c:\\users\\urmi.pandya\\.conda\\envs\\greykite\\lib\\site-packages (from matplotlib->parameter-sherpa) (9.4.0)\n",
      "Requirement already satisfied: fonttools>=4.22.0 in c:\\users\\urmi.pandya\\.conda\\envs\\greykite\\lib\\site-packages (from matplotlib->parameter-sherpa) (4.38.0)\n",
      "Requirement already satisfied: colorama in c:\\users\\urmi.pandya\\.conda\\envs\\greykite\\lib\\site-packages (from click>=8.0->flask>=0.12.2->parameter-sherpa) (0.4.6)\n",
      "Collecting paramz>=0.9.0\n",
      "  Downloading paramz-0.9.5.tar.gz (71 kB)\n",
      "     ---------------------------------------- 71.3/71.3 kB 2.0 MB/s eta 0:00:00\n",
      "  Preparing metadata (setup.py): started\n",
      "  Preparing metadata (setup.py): finished with status 'done'\n",
      "Requirement already satisfied: cython>=0.29 in c:\\users\\urmi.pandya\\.conda\\envs\\greykite\\lib\\site-packages (from GPy>=1.8->GPyOpt>=1.2.5->parameter-sherpa) (0.29.33)\n",
      "Requirement already satisfied: six in c:\\users\\urmi.pandya\\.conda\\envs\\greykite\\lib\\site-packages (from GPy>=1.8->GPyOpt>=1.2.5->parameter-sherpa) (1.16.0)\n",
      "Requirement already satisfied: typing-extensions>=3.6.4 in c:\\users\\urmi.pandya\\.conda\\envs\\greykite\\lib\\site-packages (from importlib-metadata>=3.6.0->flask>=0.12.2->parameter-sherpa) (4.5.0)\n",
      "Requirement already satisfied: zipp>=0.5 in c:\\users\\urmi.pandya\\.conda\\envs\\greykite\\lib\\site-packages (from importlib-metadata>=3.6.0->flask>=0.12.2->parameter-sherpa) (3.15.0)\n",
      "Requirement already satisfied: MarkupSafe>=2.0 in c:\\users\\urmi.pandya\\.conda\\envs\\greykite\\lib\\site-packages (from Jinja2>=3.0->flask>=0.12.2->parameter-sherpa) (2.1.1)\n",
      "Requirement already satisfied: decorator>=4.0.10 in c:\\users\\urmi.pandya\\.conda\\envs\\greykite\\lib\\site-packages (from paramz>=0.9.0->GPy>=1.8->GPyOpt>=1.2.5->parameter-sherpa) (5.1.1)\n",
      "Building wheels for collected packages: parameter-sherpa, GPyOpt, paramz\n",
      "  Building wheel for parameter-sherpa (setup.py): started\n",
      "  Building wheel for parameter-sherpa (setup.py): finished with status 'done'\n",
      "  Created wheel for parameter-sherpa: filename=parameter_sherpa-1.0.6-py2.py3-none-any.whl size=542128 sha256=c80f45d637e096dc5657ce9d9363d71a754efdbbac457f851998c80cdf5eed3c\n",
      "  Stored in directory: c:\\users\\urmi.pandya\\appdata\\local\\pip\\cache\\wheels\\4b\\48\\5e\\790d7a68fbff2a57fbfe3ff85564246ccb11943467e3e62494\n",
      "  Building wheel for GPyOpt (setup.py): started\n",
      "  Building wheel for GPyOpt (setup.py): finished with status 'done'\n",
      "  Created wheel for GPyOpt: filename=GPyOpt-1.2.6-py3-none-any.whl size=83618 sha256=97871f22a820282e65920abe4968e7f032ac55c490bccb3a80ef255d4a929386\n",
      "  Stored in directory: c:\\users\\urmi.pandya\\appdata\\local\\pip\\cache\\wheels\\c3\\ed\\ad\\73b74ff3b112ec15750ce7c32d84a84a75a5c7b10f6d6080fe\n",
      "  Building wheel for paramz (setup.py): started\n",
      "  Building wheel for paramz (setup.py): finished with status 'done'\n",
      "  Created wheel for paramz: filename=paramz-0.9.5-py3-none-any.whl size=102559 sha256=925bc365e49c8fef13340054ef74d23135d5ac01deba5ef97d49a2f3965fb481\n",
      "  Stored in directory: c:\\users\\urmi.pandya\\appdata\\local\\pip\\cache\\wheels\\ed\\ea\\0a\\6d4f56217ceba78899ee9f855b78c6c23093128ff16690fa7c\n",
      "Successfully built parameter-sherpa GPyOpt paramz\n",
      "Installing collected packages: enum34, itsdangerous, dnspython, pymongo, paramz, click, GPy, flask, GPyOpt, parameter-sherpa\n",
      "Successfully installed GPy-1.10.0 GPyOpt-1.2.6 click-8.1.3 dnspython-2.3.0 enum34-1.1.10 flask-2.2.3 itsdangerous-2.1.2 parameter-sherpa-1.0.6 paramz-0.9.5 pymongo-4.3.3\n"
     ]
    }
   ],
   "source": [
    "!pip install parameter-sherpa"
   ]
  },
  {
   "cell_type": "code",
   "execution_count": 24,
   "id": "0d0822b9",
   "metadata": {},
   "outputs": [],
   "source": [
    "from sklearn.datasets import load_breast_cancer\n",
    "from sklearn.ensemble import RandomForestClassifier\n",
    "from sklearn.model_selection import cross_val_score\n",
    "import time\n",
    "import sherpa\n",
    "import sherpa.algorithms.bayesian_optimization as bayesian_optimization"
   ]
  },
  {
   "cell_type": "code",
   "execution_count": 25,
   "id": "051df855",
   "metadata": {},
   "outputs": [],
   "source": [
    "parameters = [sherpa.Discrete('n_estimators', [2, 50]),\n",
    "              sherpa.Choice('criterion', ['gini', 'entropy']),\n",
    "              sherpa.Continuous('max_features', [0.1, 0.9])]\n",
    "\n",
    "algorithm = bayesian_optimization.GPyOpt(max_concurrent=1,model_type='GP_MCMC',acquisition_type='EI_MCMC',max_num_trials=10)"
   ]
  },
  {
   "cell_type": "code",
   "execution_count": null,
   "id": "6994fd53",
   "metadata": {},
   "outputs": [],
   "source": []
  }
 ],
 "metadata": {
  "kernelspec": {
   "display_name": "Python 3 (ipykernel)",
   "language": "python",
   "name": "python3"
  },
  "language_info": {
   "codemirror_mode": {
    "name": "ipython",
    "version": 3
   },
   "file_extension": ".py",
   "mimetype": "text/x-python",
   "name": "python",
   "nbconvert_exporter": "python",
   "pygments_lexer": "ipython3",
   "version": "3.7.16"
  }
 },
 "nbformat": 4,
 "nbformat_minor": 5
}
